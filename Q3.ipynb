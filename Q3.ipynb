{
 "cells": [
  {
   "cell_type": "code",
   "execution_count": 1,
   "metadata": {},
   "outputs": [
    {
     "data": {
      "text/html": [
       "<div>\n",
       "<style scoped>\n",
       "    .dataframe tbody tr th:only-of-type {\n",
       "        vertical-align: middle;\n",
       "    }\n",
       "\n",
       "    .dataframe tbody tr th {\n",
       "        vertical-align: top;\n",
       "    }\n",
       "\n",
       "    .dataframe thead th {\n",
       "        text-align: right;\n",
       "    }\n",
       "</style>\n",
       "<table border=\"1\" class=\"dataframe\">\n",
       "  <thead>\n",
       "    <tr style=\"text-align: right;\">\n",
       "      <th></th>\n",
       "      <th>x1</th>\n",
       "      <th>x2</th>\n",
       "      <th>y</th>\n",
       "    </tr>\n",
       "  </thead>\n",
       "  <tbody>\n",
       "    <tr>\n",
       "      <th>1</th>\n",
       "      <td>-1.400108</td>\n",
       "      <td>-0.203306</td>\n",
       "      <td>1.759950</td>\n",
       "    </tr>\n",
       "    <tr>\n",
       "      <th>2</th>\n",
       "      <td>-1.258428</td>\n",
       "      <td>0.599813</td>\n",
       "      <td>6.948210</td>\n",
       "    </tr>\n",
       "    <tr>\n",
       "      <th>3</th>\n",
       "      <td>0.923265</td>\n",
       "      <td>0.465499</td>\n",
       "      <td>-0.657786</td>\n",
       "    </tr>\n",
       "    <tr>\n",
       "      <th>4</th>\n",
       "      <td>-0.541623</td>\n",
       "      <td>-0.370584</td>\n",
       "      <td>1.420613</td>\n",
       "    </tr>\n",
       "    <tr>\n",
       "      <th>5</th>\n",
       "      <td>1.718462</td>\n",
       "      <td>1.236809</td>\n",
       "      <td>-1.482097</td>\n",
       "    </tr>\n",
       "  </tbody>\n",
       "</table>\n",
       "</div>"
      ],
      "text/plain": [
       "         x1        x2         y\n",
       "1 -1.400108 -0.203306  1.759950\n",
       "2 -1.258428  0.599813  6.948210\n",
       "3  0.923265  0.465499 -0.657786\n",
       "4 -0.541623 -0.370584  1.420613\n",
       "5  1.718462  1.236809 -1.482097"
      ]
     },
     "execution_count": 1,
     "metadata": {},
     "output_type": "execute_result"
    }
   ],
   "source": [
    "import pandas as pd\n",
    "\n",
    "df = pd.read_csv(\"Q3.csv\", index_col=0)\n",
    "df.head(5)"
   ]
  },
  {
   "cell_type": "code",
   "execution_count": 2,
   "metadata": {},
   "outputs": [
    {
     "name": "stdout",
     "output_type": "stream",
     "text": [
      "Requirement already satisfied: rpy2 in c:\\users\\gonem\\codeprojects\\advanced-statistics\\venv\\lib\\site-packages (3.5.8)\n",
      "Requirement already satisfied: packaging in c:\\users\\gonem\\codeprojects\\advanced-statistics\\venv\\lib\\site-packages (from rpy2) (23.0)\n",
      "Requirement already satisfied: tzlocal in c:\\users\\gonem\\codeprojects\\advanced-statistics\\venv\\lib\\site-packages (from rpy2) (4.2)\n",
      "Requirement already satisfied: pytz in c:\\users\\gonem\\codeprojects\\advanced-statistics\\venv\\lib\\site-packages (from rpy2) (2022.7.1)\n",
      "Requirement already satisfied: cffi>=1.10.0 in c:\\users\\gonem\\codeprojects\\advanced-statistics\\venv\\lib\\site-packages (from rpy2) (1.15.1)\n",
      "Requirement already satisfied: jinja2 in c:\\users\\gonem\\codeprojects\\advanced-statistics\\venv\\lib\\site-packages (from rpy2) (3.1.2)\n",
      "Requirement already satisfied: pycparser in c:\\users\\gonem\\codeprojects\\advanced-statistics\\venv\\lib\\site-packages (from cffi>=1.10.0->rpy2) (2.21)\n",
      "Requirement already satisfied: MarkupSafe>=2.0 in c:\\users\\gonem\\codeprojects\\advanced-statistics\\venv\\lib\\site-packages (from jinja2->rpy2) (2.1.2)\n",
      "Requirement already satisfied: pytz-deprecation-shim in c:\\users\\gonem\\codeprojects\\advanced-statistics\\venv\\lib\\site-packages (from tzlocal->rpy2) (0.1.0.post0)\n",
      "Requirement already satisfied: tzdata in c:\\users\\gonem\\codeprojects\\advanced-statistics\\venv\\lib\\site-packages (from tzlocal->rpy2) (2022.7)\n"
     ]
    }
   ],
   "source": [
    "import sys\n",
    "!{sys.executable} -m pip install rpy2"
   ]
  },
  {
   "cell_type": "code",
   "execution_count": 3,
   "metadata": {},
   "outputs": [
    {
     "name": "stderr",
     "output_type": "stream",
     "text": [
      "c:\\Users\\gonem\\CodeProjects\\advanced-statistics\\venv\\lib\\site-packages\\rpy2\\robjects\\packages.py:367: UserWarning: The symbol 'quartz' is not in this R namespace/package.\n",
      "  warnings.warn(\n"
     ]
    }
   ],
   "source": [
    "%load_ext rpy2.ipython"
   ]
  },
  {
   "cell_type": "code",
   "execution_count": 4,
   "metadata": {},
   "outputs": [
    {
     "name": "stdout",
     "output_type": "stream",
     "text": [
      "package 'np' successfully unpacked and MD5 sums checked\n"
     ]
    },
    {
     "name": "stderr",
     "output_type": "stream",
     "text": [
      "R[write to console]: Nonparametric Kernel Methods for Mixed Datatypes (version 0.60-16)\n",
      "[vignette(\"np_faq\",package=\"np\") provides answers to frequently asked questions]\n",
      "[vignette(\"np\",package=\"np\") an overview]\n",
      "[vignette(\"entropy_np\",package=\"np\") an overview of entropy-based methods]\n",
      "\n"
     ]
    },
    {
     "name": "stdout",
     "output_type": "stream",
     "text": [
      "Multistart 1 of 2.Multistart 2 of 2.                  \n",
      "Single Index Model\n",
      "Regression Data: 300 training points, in 2 variable(s)\n",
      "\n",
      "      x1        x2\n",
      "Beta:  1 -1.836592\n",
      "Bandwidth: 0.1356948\n",
      "Kernel Regression Estimator: Local-Constant\n",
      "\n",
      "Residual standard error: 0.95459\n",
      "R-squared: 0.9729999\n",
      "\n",
      "Continuous Kernel Type: Second-Order Gaussian\n",
      "No. Continuous Explanatory Vars.: 1\n",
      "\n"
     ]
    },
    {
     "data": {
      "image/png": "[encoded data removed]"
     },
     "metadata": {},
     "output_type": "display_data"
    }
   ],
   "source": [
    "%%R -i df\n",
    "\n",
    "install.packages(\"np\", repos='http://cran.us.r-project.org', quiet=TRUE)\n",
    "library(np)\n",
    "\n",
    "bw <- npindexbw(formula=y~x1+x2, data=df, method='ichimura')\n",
    "model <- npindex(bws=bw)\n",
    "summary(model)\n",
    "npplot(bws=bw)\n"
   ]
  },
  {
   "cell_type": "code",
   "execution_count": 5,
   "metadata": {},
   "outputs": [
    {
     "name": "stdout",
     "output_type": "stream",
     "text": [
      "package 'mgcv' successfully unpacked and MD5 sums checked\n"
     ]
    },
    {
     "name": "stderr",
     "output_type": "stream",
     "text": [
      "R[write to console]: Loading required package: nlme\n",
      "\n",
      "R[write to console]: This is mgcv 1.8-41. For overview type 'help(\"mgcv-package\")'.\n",
      "\n"
     ]
    },
    {
     "data": {
      "image/png": "[encoded data removed]"
     },
     "metadata": {},
     "output_type": "display_data"
    },
    {
     "data": {
      "image/png": "[encoded data removed]"
     },
     "metadata": {},
     "output_type": "display_data"
    }
   ],
   "source": [
    "%%R -i df\n",
    "\n",
    "install.packages(\"mgcv\", repos='http://cran.us.r-project.org', quiet=TRUE)\n",
    "library(mgcv)\n",
    "\n",
    "m <- gam(y~s(x1)+s(x2), data=df, method='REML')\n",
    "plot(m)"
   ]
  }
 ],
 "metadata": {
  "kernelspec": {
   "display_name": "Python 3",
   "language": "python",
   "name": "python3"
  },
  "language_info": {
   "codemirror_mode": {
    "name": "ipython",
    "version": 3
   },
   "file_extension": ".py",
   "mimetype": "text/x-python",
   "name": "python",
   "nbconvert_exporter": "python",
   "pygments_lexer": "ipython3",
   "version": "3.10.9"
  },
  "orig_nbformat": 4,
  "vscode": {
   "interpreter": {
    "hash": "6c12f0035fef94d901144b5d9d34d96ca07ecf2427b42efc3a5bd942b0002920"
   }
  }
 },
 "nbformat": 4,
 "nbformat_minor": 2
}
